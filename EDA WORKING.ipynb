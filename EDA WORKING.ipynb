{
 "cells": [
  {
   "cell_type": "code",
   "execution_count": 80,
   "metadata": {},
   "outputs": [],
   "source": [
    "import numpy as np\n",
    "import pandas as pd"
   ]
  },
  {
   "cell_type": "markdown",
   "metadata": {},
   "source": [
    "## READ DATAFRAME´s"
   ]
  },
  {
   "cell_type": "code",
   "execution_count": 81,
   "metadata": {},
   "outputs": [],
   "source": [
    "#1 circuits\n",
    "circuits=pd.read_csv(\"./DATA/circuits.csv\")# aqui lei el csv df con pd.read\n",
    "#circuits"
   ]
  },
  {
   "cell_type": "code",
   "execution_count": 82,
   "metadata": {},
   "outputs": [],
   "source": [
    "#2 constructors\n",
    "constructors=pd.read_csv(\"./DATA/constructors.csv\") #aqui lei el csv con pd.read\n",
    "#constructors"
   ]
  },
  {
   "cell_type": "code",
   "execution_count": 83,
   "metadata": {},
   "outputs": [],
   "source": [
    "#3 constructor_results\n",
    "constructor_results=pd.read_csv(\"./DATA/constructor_results.csv\")#aqui lei el csv con pd.read\n",
    "#constructor_results"
   ]
  },
  {
   "cell_type": "code",
   "execution_count": 84,
   "metadata": {},
   "outputs": [],
   "source": [
    "#4 constructor standings\n",
    "constructor_standings=pd.read_csv(\"./DATA/constructor_standings.csv\")#aqui lei el csv con pd.read\n",
    "#constructor_standings"
   ]
  },
  {
   "cell_type": "code",
   "execution_count": 85,
   "metadata": {},
   "outputs": [],
   "source": [
    "    #5 driver standings\n",
    "driver_standings=pd.read_csv(\"./DATA/driver_standings.csv\")#aqui lei el csv con pd.read\n",
    "#driver_standings"
   ]
  },
  {
   "cell_type": "code",
   "execution_count": 86,
   "metadata": {},
   "outputs": [],
   "source": [
    "#6 races\n",
    "races=pd.read_csv(\"./DATA/races.csv\") #aqui lei el csv con pd.read\n",
    "#races"
   ]
  },
  {
   "cell_type": "code",
   "execution_count": 87,
   "metadata": {},
   "outputs": [],
   "source": [
    "#7 seasons\n",
    "seasons=pd.read_csv(\"./DATA/seasons.csv\")#aqui lei el csv con pd.read\n",
    "#seasons"
   ]
  },
  {
   "cell_type": "code",
   "execution_count": 88,
   "metadata": {},
   "outputs": [],
   "source": [
    "#8 drivers\n",
    "drivers=pd.read_csv(\"./DATA/drivers.csv\")#aqui lei el csv con pd.read\n",
    "#drivers"
   ]
  },
  {
   "cell_type": "markdown",
   "metadata": {},
   "source": [
    "Una vez leidos los csv, hice un estudio de los datos, principalmente para entenderlos. FQ"
   ]
  },
  {
   "cell_type": "markdown",
   "metadata": {},
   "source": [
    "## LIMPIANDO CSV"
   ]
  },
  {
   "cell_type": "code",
   "execution_count": 89,
   "metadata": {},
   "outputs": [
    {
     "data": {
      "text/html": [
       "<div>\n",
       "<style scoped>\n",
       "    .dataframe tbody tr th:only-of-type {\n",
       "        vertical-align: middle;\n",
       "    }\n",
       "\n",
       "    .dataframe tbody tr th {\n",
       "        vertical-align: top;\n",
       "    }\n",
       "\n",
       "    .dataframe thead th {\n",
       "        text-align: right;\n",
       "    }\n",
       "</style>\n",
       "<table border=\"1\" class=\"dataframe\">\n",
       "  <thead>\n",
       "    <tr style=\"text-align: right;\">\n",
       "      <th></th>\n",
       "      <th>constructorId</th>\n",
       "      <th>name</th>\n",
       "      <th>nationality</th>\n",
       "    </tr>\n",
       "  </thead>\n",
       "  <tbody>\n",
       "    <tr>\n",
       "      <th>0</th>\n",
       "      <td>1</td>\n",
       "      <td>McLaren</td>\n",
       "      <td>British</td>\n",
       "    </tr>\n",
       "    <tr>\n",
       "      <th>1</th>\n",
       "      <td>2</td>\n",
       "      <td>BMW Sauber</td>\n",
       "      <td>German</td>\n",
       "    </tr>\n",
       "    <tr>\n",
       "      <th>2</th>\n",
       "      <td>3</td>\n",
       "      <td>Williams</td>\n",
       "      <td>British</td>\n",
       "    </tr>\n",
       "    <tr>\n",
       "      <th>3</th>\n",
       "      <td>4</td>\n",
       "      <td>Renault</td>\n",
       "      <td>French</td>\n",
       "    </tr>\n",
       "    <tr>\n",
       "      <th>4</th>\n",
       "      <td>5</td>\n",
       "      <td>Toro Rosso</td>\n",
       "      <td>Italian</td>\n",
       "    </tr>\n",
       "    <tr>\n",
       "      <th>...</th>\n",
       "      <td>...</td>\n",
       "      <td>...</td>\n",
       "      <td>...</td>\n",
       "    </tr>\n",
       "    <tr>\n",
       "      <th>206</th>\n",
       "      <td>209</td>\n",
       "      <td>Manor Marussia</td>\n",
       "      <td>British</td>\n",
       "    </tr>\n",
       "    <tr>\n",
       "      <th>207</th>\n",
       "      <td>210</td>\n",
       "      <td>Haas F1 Team</td>\n",
       "      <td>American</td>\n",
       "    </tr>\n",
       "    <tr>\n",
       "      <th>208</th>\n",
       "      <td>211</td>\n",
       "      <td>Racing Point</td>\n",
       "      <td>British</td>\n",
       "    </tr>\n",
       "    <tr>\n",
       "      <th>209</th>\n",
       "      <td>213</td>\n",
       "      <td>AlphaTauri</td>\n",
       "      <td>Italian</td>\n",
       "    </tr>\n",
       "    <tr>\n",
       "      <th>210</th>\n",
       "      <td>214</td>\n",
       "      <td>Alpine F1 Team</td>\n",
       "      <td>French</td>\n",
       "    </tr>\n",
       "  </tbody>\n",
       "</table>\n",
       "<p>211 rows × 3 columns</p>\n",
       "</div>"
      ],
      "text/plain": [
       "     constructorId            name nationality\n",
       "0                1         McLaren     British\n",
       "1                2      BMW Sauber      German\n",
       "2                3        Williams     British\n",
       "3                4         Renault      French\n",
       "4                5      Toro Rosso     Italian\n",
       "..             ...             ...         ...\n",
       "206            209  Manor Marussia     British\n",
       "207            210    Haas F1 Team    American\n",
       "208            211    Racing Point     British\n",
       "209            213      AlphaTauri     Italian\n",
       "210            214  Alpine F1 Team      French\n",
       "\n",
       "[211 rows x 3 columns]"
      ]
     },
     "execution_count": 89,
     "metadata": {},
     "output_type": "execute_result"
    }
   ],
   "source": [
    "#Constructors\n",
    "constructors=pd.read_csv(\"./DATA/constructors.csv\")\n",
    "constructor_clean=constructors.drop([\"constructorRef\",\"url\"],axis=1)\n",
    "\n",
    "\"\"\"Limpieza de columnas que no eran relevantes para obtener los resultados.\n",
    "y asignar nombre de variables, para tener las nuevas versiones preparadas para pd.merge\"\"\"\n",
    "\n",
    "\n",
    "constructor_clean"
   ]
  },
  {
   "cell_type": "code",
   "execution_count": 90,
   "metadata": {},
   "outputs": [
    {
     "data": {
      "text/plain": [
       "'Limpieza de columnas que no eran relevantes para obtener los resultados.\\ny asignar nombre de variables, para tener las nuevas versiones preparadas para pd.merge'"
      ]
     },
     "execution_count": 90,
     "metadata": {},
     "output_type": "execute_result"
    }
   ],
   "source": [
    "constructor_results=pd.read_csv(\"./DATA/constructor_results.csv\")\n",
    "constructor_results_clean=constructor_results.drop([\"status\",\"points\"],axis=1)\n",
    "\n",
    "\"\"\"Limpieza de columnas que no eran relevantes para obtener los resultados.\n",
    "y asignar nombre de variables, para tener las nuevas versiones preparadas para pd.merge\"\"\"\n",
    "\n",
    "#constructor_results_clean"
   ]
  },
  {
   "cell_type": "code",
   "execution_count": 91,
   "metadata": {},
   "outputs": [
    {
     "data": {
      "text/plain": [
       "'Limpieza de columnas que no eran relevantes para obtener los resultados.\\ny asignar nombre de variables, para tener las nuevas versiones preparadas para pd.merge'"
      ]
     },
     "execution_count": 91,
     "metadata": {},
     "output_type": "execute_result"
    }
   ],
   "source": [
    "constructor_standings=pd.read_csv(\"./DATA/constructor_standings.csv\")\n",
    "constructor_standings=constructor_standings.drop(\"points\",axis=1)\n",
    "\n",
    "\"\"\"Limpieza de columnas que no eran relevantes para obtener los resultados.\n",
    "y asignar nombre de variables, para tener las nuevas versiones preparadas para pd.merge\"\"\"\n",
    "\n",
    "#constructor_standings"
   ]
  },
  {
   "cell_type": "code",
   "execution_count": 92,
   "metadata": {},
   "outputs": [
    {
     "data": {
      "text/plain": [
       "'Limpieza de columnas que no eran relevantes para obtener los resultados.\\ny asignar nombre de variables, para tener las nuevas versiones preparadas para pd.merge'"
      ]
     },
     "execution_count": 92,
     "metadata": {},
     "output_type": "execute_result"
    }
   ],
   "source": [
    "races=pd.read_csv(\"./DATA/races.csv\")\n",
    "races=races.drop([\"round\",\"date\",\"time\",\"url\",\"fp1_date\",\"fp1_time\",\"fp2_date\",\"fp2_time\",\"fp3_date\",\"fp3_time\",\"quali_date\",\"quali_time\",\"sprint_date\",\"sprint_time\"],axis=1)\n",
    "\n",
    "\"\"\"Limpieza de columnas que no eran relevantes para obtener los resultados.\n",
    "y asignar nombre de variables, para tener las nuevas versiones preparadas para pd.merge\"\"\"\n",
    "\n",
    "\n",
    "#races"
   ]
  },
  {
   "cell_type": "markdown",
   "metadata": {},
   "source": [
    "## CONSTRUYENDO EFECTIVIDAD ESCUDERIAS"
   ]
  },
  {
   "cell_type": "code",
   "execution_count": 93,
   "metadata": {},
   "outputs": [
    {
     "data": {
      "text/plain": [
       "'Limpieza de columnas que no eran relevantes para obtener los resultados.\\ny asignar nombre de variables, para tener las nuevas versiones preparadas para pd.merge.\\nTambien me di cuenta que podia hacerlo en 2 celdas'"
      ]
     },
     "execution_count": 93,
     "metadata": {},
     "output_type": "execute_result"
    }
   ],
   "source": [
    "constructors=pd.read_csv(\"./DATA/constructors.csv\")\n",
    "constructor_clean=constructors.drop([\"constructorRef\",\"url\"],axis=1)\n",
    "\n",
    "constructor_standings=pd.read_csv(\"./DATA/constructor_standings.csv\")\n",
    "constructor_standings=constructor_standings.drop(\"points\",axis=1)\n",
    "\n",
    "\n",
    "\"\"\"Limpieza de columnas que no eran relevantes para obtener los resultados.\n",
    "y asignar nombre de variables, para tener las nuevas versiones preparadas para pd.merge.\n",
    "Tambien me di cuenta que podia hacerlo en 2 celdas\"\"\""
   ]
  },
  {
   "cell_type": "markdown",
   "metadata": {},
   "source": [
    "Limpieza de columnas que no eran relevantes para obtener los resultados.Tomando en cuenta la mayor cantidad de datos relevantes posibles\n",
    "y asignar nombre de variables, para tener las nuevas versiones preparadas para pd.merge"
   ]
  },
  {
   "cell_type": "code",
   "execution_count": 94,
   "metadata": {},
   "outputs": [
    {
     "data": {
      "text/html": [
       "<div>\n",
       "<style scoped>\n",
       "    .dataframe tbody tr th:only-of-type {\n",
       "        vertical-align: middle;\n",
       "    }\n",
       "\n",
       "    .dataframe tbody tr th {\n",
       "        vertical-align: top;\n",
       "    }\n",
       "\n",
       "    .dataframe thead th {\n",
       "        text-align: right;\n",
       "    }\n",
       "</style>\n",
       "<table border=\"1\" class=\"dataframe\">\n",
       "  <thead>\n",
       "    <tr style=\"text-align: right;\">\n",
       "      <th></th>\n",
       "      <th>constructorStandingsId</th>\n",
       "      <th>raceId</th>\n",
       "      <th>constructorId</th>\n",
       "      <th>position</th>\n",
       "      <th>positionText</th>\n",
       "      <th>wins</th>\n",
       "      <th>name</th>\n",
       "      <th>nationality</th>\n",
       "    </tr>\n",
       "  </thead>\n",
       "  <tbody>\n",
       "    <tr>\n",
       "      <th>0</th>\n",
       "      <td>1</td>\n",
       "      <td>18</td>\n",
       "      <td>1</td>\n",
       "      <td>1</td>\n",
       "      <td>1</td>\n",
       "      <td>1</td>\n",
       "      <td>McLaren</td>\n",
       "      <td>British</td>\n",
       "    </tr>\n",
       "    <tr>\n",
       "      <th>1</th>\n",
       "      <td>7</td>\n",
       "      <td>19</td>\n",
       "      <td>1</td>\n",
       "      <td>1</td>\n",
       "      <td>1</td>\n",
       "      <td>1</td>\n",
       "      <td>McLaren</td>\n",
       "      <td>British</td>\n",
       "    </tr>\n",
       "    <tr>\n",
       "      <th>2</th>\n",
       "      <td>18</td>\n",
       "      <td>20</td>\n",
       "      <td>1</td>\n",
       "      <td>3</td>\n",
       "      <td>3</td>\n",
       "      <td>1</td>\n",
       "      <td>McLaren</td>\n",
       "      <td>British</td>\n",
       "    </tr>\n",
       "    <tr>\n",
       "      <th>3</th>\n",
       "      <td>29</td>\n",
       "      <td>21</td>\n",
       "      <td>1</td>\n",
       "      <td>3</td>\n",
       "      <td>3</td>\n",
       "      <td>1</td>\n",
       "      <td>McLaren</td>\n",
       "      <td>British</td>\n",
       "    </tr>\n",
       "    <tr>\n",
       "      <th>4</th>\n",
       "      <td>40</td>\n",
       "      <td>22</td>\n",
       "      <td>1</td>\n",
       "      <td>3</td>\n",
       "      <td>3</td>\n",
       "      <td>1</td>\n",
       "      <td>McLaren</td>\n",
       "      <td>British</td>\n",
       "    </tr>\n",
       "    <tr>\n",
       "      <th>...</th>\n",
       "      <td>...</td>\n",
       "      <td>...</td>\n",
       "      <td>...</td>\n",
       "      <td>...</td>\n",
       "      <td>...</td>\n",
       "      <td>...</td>\n",
       "      <td>...</td>\n",
       "      <td>...</td>\n",
       "    </tr>\n",
       "    <tr>\n",
       "      <th>12836</th>\n",
       "      <td>28227</td>\n",
       "      <td>1082</td>\n",
       "      <td>214</td>\n",
       "      <td>5</td>\n",
       "      <td>5</td>\n",
       "      <td>0</td>\n",
       "      <td>Alpine F1 Team</td>\n",
       "      <td>French</td>\n",
       "    </tr>\n",
       "    <tr>\n",
       "      <th>12837</th>\n",
       "      <td>28237</td>\n",
       "      <td>1083</td>\n",
       "      <td>214</td>\n",
       "      <td>5</td>\n",
       "      <td>5</td>\n",
       "      <td>0</td>\n",
       "      <td>Alpine F1 Team</td>\n",
       "      <td>French</td>\n",
       "    </tr>\n",
       "    <tr>\n",
       "      <th>12838</th>\n",
       "      <td>28247</td>\n",
       "      <td>1084</td>\n",
       "      <td>214</td>\n",
       "      <td>5</td>\n",
       "      <td>5</td>\n",
       "      <td>0</td>\n",
       "      <td>Alpine F1 Team</td>\n",
       "      <td>French</td>\n",
       "    </tr>\n",
       "    <tr>\n",
       "      <th>12839</th>\n",
       "      <td>28257</td>\n",
       "      <td>1085</td>\n",
       "      <td>214</td>\n",
       "      <td>4</td>\n",
       "      <td>4</td>\n",
       "      <td>0</td>\n",
       "      <td>Alpine F1 Team</td>\n",
       "      <td>French</td>\n",
       "    </tr>\n",
       "    <tr>\n",
       "      <th>12840</th>\n",
       "      <td>28267</td>\n",
       "      <td>1086</td>\n",
       "      <td>214</td>\n",
       "      <td>4</td>\n",
       "      <td>4</td>\n",
       "      <td>0</td>\n",
       "      <td>Alpine F1 Team</td>\n",
       "      <td>French</td>\n",
       "    </tr>\n",
       "  </tbody>\n",
       "</table>\n",
       "<p>12841 rows × 8 columns</p>\n",
       "</div>"
      ],
      "text/plain": [
       "       constructorStandingsId  raceId  constructorId  position positionText  \\\n",
       "0                           1      18              1         1            1   \n",
       "1                           7      19              1         1            1   \n",
       "2                          18      20              1         3            3   \n",
       "3                          29      21              1         3            3   \n",
       "4                          40      22              1         3            3   \n",
       "...                       ...     ...            ...       ...          ...   \n",
       "12836                   28227    1082            214         5            5   \n",
       "12837                   28237    1083            214         5            5   \n",
       "12838                   28247    1084            214         5            5   \n",
       "12839                   28257    1085            214         4            4   \n",
       "12840                   28267    1086            214         4            4   \n",
       "\n",
       "       wins            name nationality  \n",
       "0         1         McLaren     British  \n",
       "1         1         McLaren     British  \n",
       "2         1         McLaren     British  \n",
       "3         1         McLaren     British  \n",
       "4         1         McLaren     British  \n",
       "...     ...             ...         ...  \n",
       "12836     0  Alpine F1 Team      French  \n",
       "12837     0  Alpine F1 Team      French  \n",
       "12838     0  Alpine F1 Team      French  \n",
       "12839     0  Alpine F1 Team      French  \n",
       "12840     0  Alpine F1 Team      French  \n",
       "\n",
       "[12841 rows x 8 columns]"
      ]
     },
     "execution_count": 94,
     "metadata": {},
     "output_type": "execute_result"
    }
   ],
   "source": [
    "constructor_standings_constructor_clean=pd.merge(constructor_standings,constructor_clean)\n",
    "\n",
    "\n",
    "\"\"\"Aqui uni variables(DF) para crear DF principal\"\"\"\n",
    "\n",
    "constructor_standings_constructor_clean"
   ]
  },
  {
   "cell_type": "code",
   "execution_count": 95,
   "metadata": {},
   "outputs": [
    {
     "data": {
      "text/html": [
       "<div>\n",
       "<style scoped>\n",
       "    .dataframe tbody tr th:only-of-type {\n",
       "        vertical-align: middle;\n",
       "    }\n",
       "\n",
       "    .dataframe tbody tr th {\n",
       "        vertical-align: top;\n",
       "    }\n",
       "\n",
       "    .dataframe thead th {\n",
       "        text-align: right;\n",
       "    }\n",
       "</style>\n",
       "<table border=\"1\" class=\"dataframe\">\n",
       "  <thead>\n",
       "    <tr style=\"text-align: right;\">\n",
       "      <th></th>\n",
       "      <th>raceId</th>\n",
       "    </tr>\n",
       "    <tr>\n",
       "      <th>name</th>\n",
       "      <th></th>\n",
       "    </tr>\n",
       "  </thead>\n",
       "  <tbody>\n",
       "    <tr>\n",
       "      <th>AGS</th>\n",
       "      <td>84</td>\n",
       "    </tr>\n",
       "    <tr>\n",
       "      <th>ATS</th>\n",
       "      <td>116</td>\n",
       "    </tr>\n",
       "    <tr>\n",
       "      <th>Alfa Romeo</th>\n",
       "      <td>186</td>\n",
       "    </tr>\n",
       "    <tr>\n",
       "      <th>AlphaTauri</th>\n",
       "      <td>52</td>\n",
       "    </tr>\n",
       "    <tr>\n",
       "      <th>Alpine F1 Team</th>\n",
       "      <td>35</td>\n",
       "    </tr>\n",
       "    <tr>\n",
       "      <th>...</th>\n",
       "      <td>...</td>\n",
       "    </tr>\n",
       "    <tr>\n",
       "      <th>Vanwall</th>\n",
       "      <td>20</td>\n",
       "    </tr>\n",
       "    <tr>\n",
       "      <th>Virgin</th>\n",
       "      <td>38</td>\n",
       "    </tr>\n",
       "    <tr>\n",
       "      <th>Williams</th>\n",
       "      <td>802</td>\n",
       "    </tr>\n",
       "    <tr>\n",
       "      <th>Wolf</th>\n",
       "      <td>64</td>\n",
       "    </tr>\n",
       "    <tr>\n",
       "      <th>Zakspeed</th>\n",
       "      <td>79</td>\n",
       "    </tr>\n",
       "  </tbody>\n",
       "</table>\n",
       "<p>159 rows × 1 columns</p>\n",
       "</div>"
      ],
      "text/plain": [
       "                raceId\n",
       "name                  \n",
       "AGS                 84\n",
       "ATS                116\n",
       "Alfa Romeo         186\n",
       "AlphaTauri          52\n",
       "Alpine F1 Team      35\n",
       "...                ...\n",
       "Vanwall             20\n",
       "Virgin              38\n",
       "Williams           802\n",
       "Wolf                64\n",
       "Zakspeed            79\n",
       "\n",
       "[159 rows x 1 columns]"
      ]
     },
     "execution_count": 95,
     "metadata": {},
     "output_type": "execute_result"
    }
   ],
   "source": [
    "df_esc=constructor_standings_constructor_clean.groupby(\"name\")[\"raceId\"].count()\n",
    "\n",
    "\n",
    "\"\"\"Aqui agrupo para obtener el primer DF con información relevante para resolver mi hipotesis principal\"\"\"\n",
    "\n",
    "df_qty_carreras_por_escuderias=pd.DataFrame(df_esc)\n",
    "df_qty_carreras_por_escuderias"
   ]
  },
  {
   "cell_type": "code",
   "execution_count": 96,
   "metadata": {},
   "outputs": [],
   "source": [
    "races=pd.read_csv(\"./DATA/races.csv\")\n",
    "\n",
    "\"\"\"En este orden, necesitaba información de otro csv\"\"\"\n",
    "\n",
    "races=races.drop([\"round\",\"date\",\"time\",\"url\",\"fp1_date\",\"fp1_time\",\"fp2_date\",\"fp2_time\",\"fp3_date\",\"fp3_time\",\"quali_date\",\"quali_time\",\"sprint_date\",\"sprint_time\"],axis=1)\n",
    "\n",
    "#Limpieza\n",
    "\n",
    "#races"
   ]
  },
  {
   "cell_type": "markdown",
   "metadata": {},
   "source": [
    "## CONSTRUYENDO EL DF_CONSTRUCTOR_FINAL"
   ]
  },
  {
   "cell_type": "code",
   "execution_count": 97,
   "metadata": {},
   "outputs": [],
   "source": [
    "#CONSTRUYENDO EL DF_CONSTRUCTOR_FINAL\n",
    "constructors=pd.read_csv(\"./DATA/constructors.csv\")#Read CSV\n",
    "constructor_clean=constructors.drop([\"constructorRef\",\"url\"],axis=1)#Limpieza CSV"
   ]
  },
  {
   "cell_type": "code",
   "execution_count": 98,
   "metadata": {},
   "outputs": [],
   "source": [
    "constructor_standings=pd.read_csv(\"./DATA/constructor_standings.csv\")#Read CSV\n",
    "constructor_standings=constructor_standings.drop(\"points\",axis=1)#Limpieza CSV\n",
    "#constructor_clean\n",
    "#constructor_standings"
   ]
  },
  {
   "cell_type": "code",
   "execution_count": 99,
   "metadata": {},
   "outputs": [],
   "source": [
    "constructor_final=pd.merge(constructor_standings,constructor_clean)#Uniendo DF limpios\n",
    "constructor_final=pd.merge(constructor_final,races,on=\"raceId\")#Creando DF con mas datos\n",
    "#constructor_final"
   ]
  },
  {
   "cell_type": "code",
   "execution_count": 100,
   "metadata": {},
   "outputs": [],
   "source": [
    "constructor_final.to_csv(\"./DATASET_FINALES/df_constructores_final.csv\")#Guardamos CSV el DF constructor_final"
   ]
  },
  {
   "cell_type": "markdown",
   "metadata": {},
   "source": [
    "## CONSTRUYENDO TOTAL CARRERAS ACUMULADAS"
   ]
  },
  {
   "cell_type": "code",
   "execution_count": 101,
   "metadata": {},
   "outputs": [],
   "source": [
    "#CONSTRUYENDO TOTAL CARRERAS ACUMULADAS\n",
    "#Aplico Value counts para totalizar datos en DF.\n",
    "total_carreras_acumuladas=constructor_final[\"name_x\"].value_counts()\n",
    "df_total_carreras_acumuladas=pd.DataFrame(total_carreras_acumuladas)\n"
   ]
  },
  {
   "cell_type": "code",
   "execution_count": 102,
   "metadata": {},
   "outputs": [],
   "source": [
    "df_total_carreras_acumuladas=df_total_carreras_acumuladas.rename(columns={\"name_x\":\"Total Carreras\"})\n",
    "df_total_carreras_acumuladas=df_total_carreras_acumuladas.reset_index()#Esto se hace para que tableau reconozca el valor como String\n",
    "#df_total_carreras_acumuladas"
   ]
  },
  {
   "cell_type": "code",
   "execution_count": 103,
   "metadata": {},
   "outputs": [],
   "source": [
    "df_total_carreras_acumuladas=df_total_carreras_acumuladas.rename(columns={\"index\":\"Nombre_Escuderìa\"})#Cambio de nombre a la columna\n",
    "df_total_carreras_acumuladas.to_csv(\"./DATASET_FINALES/df_total_carreras_acumuladas.csv\")#Guardo CSV\n",
    "\n",
    "#Convertido en csv y guardado en caperta DATASET_FINALES\n",
    "\n",
    "#df_total_carreras_acumuladas"
   ]
  },
  {
   "cell_type": "markdown",
   "metadata": {},
   "source": [
    "## CONSTRUYENDO NUMERO TOTAL DE CARRERAS Y ESCUDERIAS PARTICIPANTES"
   ]
  },
  {
   "cell_type": "code",
   "execution_count": 104,
   "metadata": {},
   "outputs": [],
   "source": [
    "#CONSTRUYENDO NUMERO TOTAL DE CARRERAS Y ESCUDERIAS PARTICIPANTES\n",
    "#desde DF\n",
    "#constructor_final"
   ]
  },
  {
   "cell_type": "code",
   "execution_count": 105,
   "metadata": {},
   "outputs": [],
   "source": [
    "#Aqui necesitaba total de carreras disputadas, y total escuderias\"\"\"\n",
    "var1=num_total_carreras=int(constructor_final[\"raceId\"].max())\n",
    "var2=num_total_escuderias=int(len(constructor_final[\"name_x\"].unique()))"
   ]
  },
  {
   "cell_type": "code",
   "execution_count": 106,
   "metadata": {},
   "outputs": [],
   "source": [
    "#Crear DF con los resultados obtenidos\n",
    "df_num_total_carreras_escuderias=(pd.DataFrame({\"Total Escuderías Participantes\":[var2],\"Total Carreras Celebradas\":[var1]}))\n",
    "\n",
    "\n",
    "#df_num_total_carreras_escuderias\n"
   ]
  },
  {
   "cell_type": "code",
   "execution_count": 107,
   "metadata": {},
   "outputs": [],
   "source": [
    "#Transponer, igualando a la variable para el DF final\n",
    "df_num_total_carreras_escuderias=df_num_total_carreras_escuderias.T \n",
    "df_num_total_carreras_escuderias=df_num_total_carreras_escuderias.rename(columns={0:\"Total\"})#renombrando columnas\n",
    "#df_num_total_carreras_escuderias"
   ]
  },
  {
   "cell_type": "code",
   "execution_count": 108,
   "metadata": {},
   "outputs": [],
   "source": [
    "\n",
    "df_num_total_carreras_escuderias.to_csv(\"./DATASET_FINALES/df_num_total_carreras_escuderias.csv\")\n",
    "#Guardo CSV\n",
    "\n",
    "#df_num_total_carreras_escuderias"
   ]
  },
  {
   "cell_type": "markdown",
   "metadata": {},
   "source": [
    "## CONSTRUYENDO ESCUDERIAS CON PODIOS"
   ]
  },
  {
   "cell_type": "code",
   "execution_count": 109,
   "metadata": {},
   "outputs": [],
   "source": [
    "#CONSTRUYENDO ESCUDERIAS CON PODIOS\n",
    "df_escuderias_podios=constructor_final[(constructor_final.position > 0)&(constructor_final.position<4)]\n",
    "\n",
    "\"\"\"En esta ventana necesitaba filtrar la información de las posiciones obtenidas, asi que aplique una mascara booleana\"\"\"\n",
    "\n",
    "\n",
    "df_escuderias_podios=df_escuderias_podios.groupby(\"position\")[\"name_x\"].value_counts()\n",
    "df_escuderias_podios=pd.DataFrame(df_escuderias_podios)\n",
    "#df_escuderias_podios.to_csv(\"./DATASET_FINALES/df_escuderias_podios.csv\")\n",
    "#df_escuderias_podios\n"
   ]
  },
  {
   "cell_type": "code",
   "execution_count": 110,
   "metadata": {},
   "outputs": [],
   "source": [
    "\"\"\"En esta etapa, quería contar el numero de veces que una escudería habia obtenido cada posicion (1,2,3)\"\"\"\n",
    "\n",
    "#constructor_final\n",
    "df_escuderias_podios_totales=constructor_final[(constructor_final.position > 0)&(constructor_final.position<4)]\n",
    "var1=df_escuderias_podios_totales=int(len(df_escuderias_podios_totales[\"name_x\"].unique()))\n",
    "var2=num_total_escuderias=int(len(constructor_final[\"name_x\"].unique()))\n",
    "var3=round((var1/var2)*100)\n",
    "var3=\"{}%\".format(var3)"
   ]
  },
  {
   "cell_type": "code",
   "execution_count": 111,
   "metadata": {},
   "outputs": [
    {
     "data": {
      "text/html": [
       "<div>\n",
       "<style scoped>\n",
       "    .dataframe tbody tr th:only-of-type {\n",
       "        vertical-align: middle;\n",
       "    }\n",
       "\n",
       "    .dataframe tbody tr th {\n",
       "        vertical-align: top;\n",
       "    }\n",
       "\n",
       "    .dataframe thead th {\n",
       "        text-align: right;\n",
       "    }\n",
       "</style>\n",
       "<table border=\"1\" class=\"dataframe\">\n",
       "  <thead>\n",
       "    <tr style=\"text-align: right;\">\n",
       "      <th></th>\n",
       "      <th>Total</th>\n",
       "    </tr>\n",
       "  </thead>\n",
       "  <tbody>\n",
       "    <tr>\n",
       "      <th>Total Escuderias Participantes</th>\n",
       "      <td>159</td>\n",
       "    </tr>\n",
       "    <tr>\n",
       "      <th>Escuderias con podios</th>\n",
       "      <td>47</td>\n",
       "    </tr>\n",
       "    <tr>\n",
       "      <th>Porcentaje de Escuderias con podios</th>\n",
       "      <td>30%</td>\n",
       "    </tr>\n",
       "  </tbody>\n",
       "</table>\n",
       "</div>"
      ],
      "text/plain": [
       "                                    Total\n",
       "Total Escuderias Participantes        159\n",
       "Escuderias con podios                  47\n",
       "Porcentaje de Escuderias con podios   30%"
      ]
     },
     "execution_count": 111,
     "metadata": {},
     "output_type": "execute_result"
    }
   ],
   "source": [
    "\"\"\"En esta etapa, calculo el RATIO de la cantidad de escuderias del total que han participado, logran subir al podio \"\"\"\n",
    "\n",
    "#var3\n",
    "df_escuderias_podios_totales=(pd.DataFrame({\"Total Escuderias Participantes\":[var2],\"Escuderias con podios\":[var1],\"Porcentaje de Escuderias con podios\":[var3]}))\n",
    "#Creo el DF pasandole un diccionario, con nombre de la columna:variable con información relevante\n",
    "df_escuderias_podios_totales=df_escuderias_podios_totales.T #Transponse\n",
    "df_escuderias_podios_totales=df_escuderias_podios_totales.rename(columns={0:\"Total\"})\n",
    "df_escuderias_podios_totales\n",
    "#df_escuderias_podios_totales.to_csv(\"./DATASET_FINALES/df_escuderias_podios_totales.csv\")\n",
    "df_escuderias_podios_totales"
   ]
  },
  {
   "cell_type": "code",
   "execution_count": 112,
   "metadata": {},
   "outputs": [
    {
     "data": {
      "text/html": [
       "<div>\n",
       "<style scoped>\n",
       "    .dataframe tbody tr th:only-of-type {\n",
       "        vertical-align: middle;\n",
       "    }\n",
       "\n",
       "    .dataframe tbody tr th {\n",
       "        vertical-align: top;\n",
       "    }\n",
       "\n",
       "    .dataframe thead th {\n",
       "        text-align: right;\n",
       "    }\n",
       "</style>\n",
       "<table border=\"1\" class=\"dataframe\">\n",
       "  <thead>\n",
       "    <tr style=\"text-align: right;\">\n",
       "      <th></th>\n",
       "      <th></th>\n",
       "      <th>name_x</th>\n",
       "    </tr>\n",
       "    <tr>\n",
       "      <th>position</th>\n",
       "      <th>name_x</th>\n",
       "      <th></th>\n",
       "    </tr>\n",
       "  </thead>\n",
       "  <tbody>\n",
       "    <tr>\n",
       "      <th rowspan=\"5\" valign=\"top\">1</th>\n",
       "      <th>Ferrari</th>\n",
       "      <td>234</td>\n",
       "    </tr>\n",
       "    <tr>\n",
       "      <th>McLaren</th>\n",
       "      <td>165</td>\n",
       "    </tr>\n",
       "    <tr>\n",
       "      <th>Mercedes</th>\n",
       "      <td>145</td>\n",
       "    </tr>\n",
       "    <tr>\n",
       "      <th>Williams</th>\n",
       "      <td>114</td>\n",
       "    </tr>\n",
       "    <tr>\n",
       "      <th>Red Bull</th>\n",
       "      <td>77</td>\n",
       "    </tr>\n",
       "    <tr>\n",
       "      <th>...</th>\n",
       "      <th>...</th>\n",
       "      <td>...</td>\n",
       "    </tr>\n",
       "    <tr>\n",
       "      <th rowspan=\"5\" valign=\"top\">3</th>\n",
       "      <th>Hesketh</th>\n",
       "      <td>1</td>\n",
       "    </tr>\n",
       "    <tr>\n",
       "      <th>Honda</th>\n",
       "      <td>1</td>\n",
       "    </tr>\n",
       "    <tr>\n",
       "      <th>Lotus-BRM</th>\n",
       "      <td>1</td>\n",
       "    </tr>\n",
       "    <tr>\n",
       "      <th>Matra</th>\n",
       "      <td>1</td>\n",
       "    </tr>\n",
       "    <tr>\n",
       "      <th>Shadow</th>\n",
       "      <td>1</td>\n",
       "    </tr>\n",
       "  </tbody>\n",
       "</table>\n",
       "<p>100 rows × 1 columns</p>\n",
       "</div>"
      ],
      "text/plain": [
       "                    name_x\n",
       "position name_x           \n",
       "1        Ferrari       234\n",
       "         McLaren       165\n",
       "         Mercedes      145\n",
       "         Williams      114\n",
       "         Red Bull       77\n",
       "...                    ...\n",
       "3        Hesketh         1\n",
       "         Honda           1\n",
       "         Lotus-BRM       1\n",
       "         Matra           1\n",
       "         Shadow          1\n",
       "\n",
       "[100 rows x 1 columns]"
      ]
     },
     "execution_count": 112,
     "metadata": {},
     "output_type": "execute_result"
    }
   ],
   "source": [
    "df_escuderias_podios_year=constructor_final[(constructor_final.position > 0)&(constructor_final.position<4)]\n",
    "df_escuderias_podios_year=df_escuderias_podios_year.groupby([\"position\",\"year\"])[\"name_x\"].value_counts()\n",
    "df_escuderias_podios_year=pd.DataFrame(df_escuderias_podios_year)\n",
    "df_escuderias_podios_year.to_csv(\"./DATASET_FINALES/df_escuderias_podios_year.csv\")\n",
    "df_escuderias_podios\n",
    "\n",
    "\"\"\"Utilice el mismo codigo para extraer vista relevante para el EDA\"\"\";\n",
    "df_escuderias_podios\n"
   ]
  },
  {
   "cell_type": "markdown",
   "metadata": {},
   "source": [
    "## CONSTRUYENDO EFECTIVIDAD PODIOS"
   ]
  },
  {
   "cell_type": "code",
   "execution_count": 113,
   "metadata": {},
   "outputs": [
    {
     "data": {
      "text/plain": [
       "name_x      year\n",
       "Alfa Romeo  1981     1\n",
       "Arrows      1981     3\n",
       "BAR         2000     1\n",
       "            2004    15\n",
       "BMW Sauber  2007    17\n",
       "                    ..\n",
       "Williams    2008     1\n",
       "            2014     8\n",
       "            2015    18\n",
       "            2016     1\n",
       "Wolf        1977    14\n",
       "Name: position, Length: 293, dtype: int64"
      ]
     },
     "execution_count": 113,
     "metadata": {},
     "output_type": "execute_result"
    }
   ],
   "source": [
    "#repito el mismo proceso de mascara booleana y group by para obnter información relevante\n",
    "df_escuderias_podios_efectividad_totales=constructor_final[(constructor_final.position > 0)&(constructor_final.position<4)]\n",
    "df_escuderias_podios_efectividad_totales=df_escuderias_podios_efectividad_totales.groupby([\"name_x\",\"year\"])[\"position\"].count()\n",
    "df_escuderias_podios_efectividad_totales"
   ]
  },
  {
   "cell_type": "code",
   "execution_count": 114,
   "metadata": {},
   "outputs": [],
   "source": [
    "#paso a DF y indico nombres correctos\n",
    "df_escuderias_podios_efectividad_totales=pd.DataFrame(df_escuderias_podios_efectividad_totales).reset_index()\n",
    "df_escuderias_podios_efectividad_totales=df_escuderias_podios_efectividad_totales=df_escuderias_podios_efectividad_totales.rename(columns={\"positionText\":\"Efectividad_podio\"}).reset_index()\n"
   ]
  },
  {
   "cell_type": "code",
   "execution_count": 115,
   "metadata": {},
   "outputs": [],
   "source": [
    "#Corregir errores del DF, y reparando formatos para facilitar lecturas con tableau\n",
    "total_carreras_acumuladas=constructor_final[\"name_x\"].value_counts()\n",
    "df_total_carreras_acumuladas=pd.DataFrame(total_carreras_acumuladas).reset_index()\n",
    "df_total_carreras_acumuladas=df_total_carreras_acumuladas.rename(columns={\"index\":\"name_xx\"})\n",
    "df_total_carreras_acumuladas=df_total_carreras_acumuladas.rename(columns={\"name_x\":\"TotalGP\"})\n",
    "df_total_carreras_acumuladas=df_total_carreras_acumuladas.rename(columns={\"name_xx\":\"name_x\"})\n",
    "#df_total_carreras_acumuladas"
   ]
  },
  {
   "cell_type": "code",
   "execution_count": 116,
   "metadata": {},
   "outputs": [],
   "source": [
    "#Uniendo columnas \n",
    "df_escuderias_podios_efectividad_totales=pd.merge(df_escuderias_podios_efectividad_totales,df_total_carreras_acumuladas)\n",
    "df_escuderias_podios_efectividad_totales=df_escuderias_podios_efectividad_totales.rename(columns={\"position\":\"Total_podios\"})\n"
   ]
  },
  {
   "cell_type": "code",
   "execution_count": 117,
   "metadata": {},
   "outputs": [],
   "source": [
    "#Dividiendo columnas con pandas\n",
    "columna_efectividad_total=(df_escuderias_podios_efectividad_totales[\"Total_podios\"]/df_escuderias_podios_efectividad_totales[\"TotalGP\"])*100\n"
   ]
  },
  {
   "cell_type": "code",
   "execution_count": 118,
   "metadata": {},
   "outputs": [
    {
     "data": {
      "text/html": [
       "<div>\n",
       "<style scoped>\n",
       "    .dataframe tbody tr th:only-of-type {\n",
       "        vertical-align: middle;\n",
       "    }\n",
       "\n",
       "    .dataframe tbody tr th {\n",
       "        vertical-align: top;\n",
       "    }\n",
       "\n",
       "    .dataframe thead th {\n",
       "        text-align: right;\n",
       "    }\n",
       "</style>\n",
       "<table border=\"1\" class=\"dataframe\">\n",
       "  <thead>\n",
       "    <tr style=\"text-align: right;\">\n",
       "      <th></th>\n",
       "      <th>name_x</th>\n",
       "      <th>year</th>\n",
       "      <th>Total_podios</th>\n",
       "      <th>TotalGP</th>\n",
       "      <th>Total_Efectividad</th>\n",
       "    </tr>\n",
       "  </thead>\n",
       "  <tbody>\n",
       "    <tr>\n",
       "      <th>68</th>\n",
       "      <td>Ferrari</td>\n",
       "      <td>1967</td>\n",
       "      <td>1</td>\n",
       "      <td>1003</td>\n",
       "      <td>0.099701</td>\n",
       "    </tr>\n",
       "    <tr>\n",
       "      <th>73</th>\n",
       "      <td>Ferrari</td>\n",
       "      <td>1973</td>\n",
       "      <td>1</td>\n",
       "      <td>1003</td>\n",
       "      <td>0.099701</td>\n",
       "    </tr>\n",
       "    <tr>\n",
       "      <th>85</th>\n",
       "      <td>Ferrari</td>\n",
       "      <td>1987</td>\n",
       "      <td>1</td>\n",
       "      <td>1003</td>\n",
       "      <td>0.099701</td>\n",
       "    </tr>\n",
       "    <tr>\n",
       "      <th>171</th>\n",
       "      <td>McLaren</td>\n",
       "      <td>1994</td>\n",
       "      <td>1</td>\n",
       "      <td>874</td>\n",
       "      <td>0.114416</td>\n",
       "    </tr>\n",
       "    <tr>\n",
       "      <th>187</th>\n",
       "      <td>McLaren</td>\n",
       "      <td>2018</td>\n",
       "      <td>1</td>\n",
       "      <td>874</td>\n",
       "      <td>0.114416</td>\n",
       "    </tr>\n",
       "    <tr>\n",
       "      <th>...</th>\n",
       "      <td>...</td>\n",
       "      <td>...</td>\n",
       "      <td>...</td>\n",
       "      <td>...</td>\n",
       "      <td>...</td>\n",
       "    </tr>\n",
       "    <tr>\n",
       "      <th>147</th>\n",
       "      <td>March-Ford</td>\n",
       "      <td>1971</td>\n",
       "      <td>3</td>\n",
       "      <td>11</td>\n",
       "      <td>27.272727</td>\n",
       "    </tr>\n",
       "    <tr>\n",
       "      <th>261</th>\n",
       "      <td>Vanwall</td>\n",
       "      <td>1958</td>\n",
       "      <td>9</td>\n",
       "      <td>20</td>\n",
       "      <td>45.000000</td>\n",
       "    </tr>\n",
       "    <tr>\n",
       "      <th>151</th>\n",
       "      <td>Matra-Ford</td>\n",
       "      <td>1969</td>\n",
       "      <td>11</td>\n",
       "      <td>23</td>\n",
       "      <td>47.826087</td>\n",
       "    </tr>\n",
       "    <tr>\n",
       "      <th>46</th>\n",
       "      <td>Cooper</td>\n",
       "      <td>1958</td>\n",
       "      <td>11</td>\n",
       "      <td>17</td>\n",
       "      <td>64.705882</td>\n",
       "    </tr>\n",
       "    <tr>\n",
       "      <th>45</th>\n",
       "      <td>Brawn</td>\n",
       "      <td>2009</td>\n",
       "      <td>17</td>\n",
       "      <td>17</td>\n",
       "      <td>100.000000</td>\n",
       "    </tr>\n",
       "  </tbody>\n",
       "</table>\n",
       "<p>293 rows × 5 columns</p>\n",
       "</div>"
      ],
      "text/plain": [
       "         name_x  year  Total_podios  TotalGP  Total_Efectividad\n",
       "68      Ferrari  1967             1     1003           0.099701\n",
       "73      Ferrari  1973             1     1003           0.099701\n",
       "85      Ferrari  1987             1     1003           0.099701\n",
       "171     McLaren  1994             1      874           0.114416\n",
       "187     McLaren  2018             1      874           0.114416\n",
       "..          ...   ...           ...      ...                ...\n",
       "147  March-Ford  1971             3       11          27.272727\n",
       "261     Vanwall  1958             9       20          45.000000\n",
       "151  Matra-Ford  1969            11       23          47.826087\n",
       "46       Cooper  1958            11       17          64.705882\n",
       "45        Brawn  2009            17       17         100.000000\n",
       "\n",
       "[293 rows x 5 columns]"
      ]
     },
     "execution_count": 118,
     "metadata": {},
     "output_type": "execute_result"
    }
   ],
   "source": [
    "#En esta etapa hago un nuevo DF con las 3 columnas.\n",
    "columna_efectividad_total=pd.DataFrame(columna_efectividad_total).reset_index()\n",
    "columna_efectividad_total=columna_efectividad_total.rename(columns={0:\"Total_Efectividad\"})\n",
    "#columna_efectividad_total\n",
    "df_escuderias_podios_efectividad_totales=pd.merge(df_escuderias_podios_efectividad_totales,columna_efectividad_total,on=\"index\")\n",
    "df_escuderias_podios_efectividad_totales=df_escuderias_podios_efectividad_totales.drop([\"index\"],axis=1)\n",
    "\n",
    "df_escuderias_podios_efectividad_totales.to_csv(\"./DATASET_FINALES/df_escuderias_podios_efectividad_totales.csv\")\n",
    "\n"
   ]
  },
  {
   "cell_type": "code",
   "execution_count": 123,
   "metadata": {},
   "outputs": [
    {
     "data": {
      "text/plain": [
       "year  name_x      \n",
       "1958  Cooper          1\n",
       "      Ferrari         1\n",
       "      Maserati        1\n",
       "      Vanwall         1\n",
       "1959  BRM             1\n",
       "                     ..\n",
       "2021  Red Bull        1\n",
       "2022  Ferrari         1\n",
       "      Haas F1 Team    1\n",
       "      Mercedes        1\n",
       "      Red Bull        1\n",
       "Name: name_x, Length: 293, dtype: int64"
      ]
     },
     "execution_count": 123,
     "metadata": {},
     "output_type": "execute_result"
    }
   ],
   "source": [
    "#DF creado para obtener vista por año y ver en linechart distribución de podios.\n",
    "constructor_final\n",
    "df_anno_campionato_constructores=df_escuderias_podios_efectividad_totales.groupby(\"year\")[\"name_x\"].value_counts()\n",
    "#df_anno_campionato_constructores.to_csv(\"./DATASET_FINALES/df_anno_campionato_constructores.csv\")\n",
    "df_anno_campionato_constructores\n",
    "\n"
   ]
  },
  {
   "cell_type": "markdown",
   "metadata": {},
   "source": [
    "## Gracias!"
   ]
  }
 ],
 "metadata": {
  "kernelspec": {
   "display_name": "Python 3.7.4 64-bit",
   "language": "python",
   "name": "python3"
  },
  "language_info": {
   "codemirror_mode": {
    "name": "ipython",
    "version": 3
   },
   "file_extension": ".py",
   "mimetype": "text/x-python",
   "name": "python",
   "nbconvert_exporter": "python",
   "pygments_lexer": "ipython3",
   "version": "3.7.4"
  },
  "orig_nbformat": 4,
  "vscode": {
   "interpreter": {
    "hash": "0f7a145e4970f6d0f5c6de0432d3e0b5395cb785a9080f57a7695a3737e80910"
   }
  }
 },
 "nbformat": 4,
 "nbformat_minor": 2
}
